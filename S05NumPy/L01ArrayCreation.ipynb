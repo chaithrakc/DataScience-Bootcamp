{
 "cells": [
  {
   "cell_type": "code",
   "execution_count": 1,
   "id": "f97c308d",
   "metadata": {},
   "outputs": [],
   "source": [
    "# Name: Chaithra Kopparam Cheluvaiah\n",
    "# Nov 23, 2021"
   ]
  },
  {
   "cell_type": "markdown",
   "id": "5982e74d",
   "metadata": {},
   "source": [
    "### Introduction to Numpy\n",
    "\n",
    "1. NumPy is a linear algebra library for python\n",
    "2. Numpy is also incredibly fast, as it has its binding to C libraries\n",
    "3. It is highle recommended to install python using anaconda distribution to make sure all underlying dependencies (such as Linear Algebra libraries) all sync up with the use of conda install\n",
    "4. if you have Anaconda, install Numpy by going to your terminal or command prompt and typing:\n",
    "```conda install numpy\n",
    "pip install numpy```"
   ]
  },
  {
   "cell_type": "code",
   "execution_count": 3,
   "id": "0e3d16f1",
   "metadata": {},
   "outputs": [],
   "source": [
    "import numpy as np"
   ]
  },
  {
   "cell_type": "code",
   "execution_count": 4,
   "id": "a1232370",
   "metadata": {},
   "outputs": [
    {
     "data": {
      "text/plain": [
       "<module 'numpy.version' from 'C:\\\\Users\\\\Chaithra\\\\anaconda3\\\\lib\\\\site-packages\\\\numpy\\\\version.py'>"
      ]
     },
     "execution_count": 4,
     "metadata": {},
     "output_type": "execute_result"
    }
   ],
   "source": [
    "np.version"
   ]
  },
  {
   "cell_type": "markdown",
   "id": "3ff00215",
   "metadata": {},
   "source": [
    "### Numpy Arrays - np.array()\n",
    "\n",
    "1. Numpy arrays essentially come in two flavours: vectors and matrcies\n",
    "2. Vectors are either 1-d Arrays or 2-d Matrices (but you should note a matrix can still have only one row or one column)."
   ]
  },
  {
   "cell_type": "code",
   "execution_count": 6,
   "id": "e809e9f8",
   "metadata": {},
   "outputs": [],
   "source": [
    "#casting normal python list to a numpy array\n",
    "my_list = [1,2,3,4,5,6,7,8,9,10]"
   ]
  },
  {
   "cell_type": "code",
   "execution_count": 8,
   "id": "85a6cbc1",
   "metadata": {},
   "outputs": [],
   "source": [
    "arr = np.array(my_list)"
   ]
  },
  {
   "cell_type": "code",
   "execution_count": 9,
   "id": "654ee06c",
   "metadata": {},
   "outputs": [
    {
     "data": {
      "text/plain": [
       "array([ 1,  2,  3,  4,  5,  6,  7,  8,  9, 10])"
      ]
     },
     "execution_count": 9,
     "metadata": {},
     "output_type": "execute_result"
    }
   ],
   "source": [
    "arr"
   ]
  },
  {
   "cell_type": "code",
   "execution_count": 10,
   "id": "2d6e0653",
   "metadata": {},
   "outputs": [],
   "source": [
    "# casting list of list to 2-d numpy array - matrix\n",
    "my_mat = [[1,2,3],[4,5,6],[7,8,9]]"
   ]
  },
  {
   "cell_type": "code",
   "execution_count": 11,
   "id": "1788b852",
   "metadata": {},
   "outputs": [
    {
     "data": {
      "text/plain": [
       "array([[1, 2, 3],\n",
       "       [4, 5, 6],\n",
       "       [7, 8, 9]])"
      ]
     },
     "execution_count": 11,
     "metadata": {},
     "output_type": "execute_result"
    }
   ],
   "source": [
    "np.array(my_mat)"
   ]
  },
  {
   "cell_type": "markdown",
   "id": "02d7c29f",
   "metadata": {},
   "source": [
    "### Usually, We use Numpy built-in generation methods to create arrays a lot faster and a lot simpler. \n",
    "### Most Commonly used are:"
   ]
  },
  {
   "cell_type": "code",
   "execution_count": 5,
   "id": "f7224534",
   "metadata": {},
   "outputs": [
    {
     "data": {
      "text/plain": [
       "array([0, 1, 2, 3, 4, 5, 6, 7, 8, 9])"
      ]
     },
     "execution_count": 5,
     "metadata": {},
     "output_type": "execute_result"
    }
   ],
   "source": [
    "# similar to python's range method\n",
    "np.arange(start=0,stop=10)\n",
    "\n",
    "# python range returns range object. it needs to be typecasted to list"
   ]
  },
  {
   "cell_type": "code",
   "execution_count": 7,
   "id": "d7cb8d2b",
   "metadata": {},
   "outputs": [
    {
     "data": {
      "text/plain": [
       "array([0, 2, 4, 6, 8])"
      ]
     },
     "execution_count": 7,
     "metadata": {},
     "output_type": "execute_result"
    }
   ],
   "source": [
    "np.arange(0,10,step=2) #step =2 , to get even numbers"
   ]
  },
  {
   "cell_type": "code",
   "execution_count": 8,
   "id": "e9c8baec",
   "metadata": {},
   "outputs": [],
   "source": [
    "# we cannot create 2d array with np.arange()"
   ]
  },
  {
   "cell_type": "code",
   "execution_count": 15,
   "id": "d7e20cf7",
   "metadata": {},
   "outputs": [
    {
     "data": {
      "text/plain": [
       "array([0., 0., 0.])"
      ]
     },
     "execution_count": 15,
     "metadata": {},
     "output_type": "execute_result"
    }
   ],
   "source": [
    "# generate arrays with all zeros\n",
    "np.zeros(3) # 1-d array"
   ]
  },
  {
   "cell_type": "code",
   "execution_count": 17,
   "id": "5664e4d5",
   "metadata": {},
   "outputs": [
    {
     "data": {
      "text/plain": [
       "array([[0., 0., 0.],\n",
       "       [0., 0., 0.]])"
      ]
     },
     "execution_count": 17,
     "metadata": {},
     "output_type": "execute_result"
    }
   ],
   "source": [
    "np.zeros((2,3)) # pass tuple for matrix with rows and cols in a tuple"
   ]
  },
  {
   "cell_type": "code",
   "execution_count": 18,
   "id": "6731f46e",
   "metadata": {},
   "outputs": [
    {
     "data": {
      "text/plain": [
       "array([1., 1., 1., 1.])"
      ]
     },
     "execution_count": 18,
     "metadata": {},
     "output_type": "execute_result"
    }
   ],
   "source": [
    "# generate arrays with all ones\n",
    "np.ones(4)"
   ]
  },
  {
   "cell_type": "code",
   "execution_count": 20,
   "id": "17b6189a",
   "metadata": {},
   "outputs": [
    {
     "data": {
      "text/plain": [
       "array([[1., 1., 1., 1., 1.],\n",
       "       [1., 1., 1., 1., 1.],\n",
       "       [1., 1., 1., 1., 1.],\n",
       "       [1., 1., 1., 1., 1.],\n",
       "       [1., 1., 1., 1., 1.]])"
      ]
     },
     "execution_count": 20,
     "metadata": {},
     "output_type": "execute_result"
    }
   ],
   "source": [
    "np.ones((5,5))"
   ]
  },
  {
   "cell_type": "code",
   "execution_count": 15,
   "id": "9803b14c",
   "metadata": {},
   "outputs": [
    {
     "data": {
      "text/plain": [
       "array([0.        , 0.55555556, 1.11111111, 1.66666667, 2.22222222,\n",
       "       2.77777778, 3.33333333, 3.88888889, 4.44444444, 5.        ])"
      ]
     },
     "execution_count": 15,
     "metadata": {},
     "output_type": "execute_result"
    }
   ],
   "source": [
    "# evenly spaced numbers over a specified interval\n",
    "np.linspace(0,5,10) # third argument: number of evenly spaced points you need\n",
    "\n",
    "# range also provides evenly spaced values but third argumnet is step size\n",
    "# (5-0)/9 should be the step size while using range"
   ]
  },
  {
   "cell_type": "code",
   "execution_count": 11,
   "id": "a95429b1",
   "metadata": {},
   "outputs": [
    {
     "data": {
      "text/plain": [
       "array([2.  , 2.25, 2.5 , 2.75, 3.  ])"
      ]
     },
     "execution_count": 11,
     "metadata": {},
     "output_type": "execute_result"
    }
   ],
   "source": [
    "np.linspace(2,3,5) # (3-2)/4 -> each step size"
   ]
  },
  {
   "cell_type": "code",
   "execution_count": 24,
   "id": "bd87aabc",
   "metadata": {},
   "outputs": [
    {
     "data": {
      "text/plain": [
       "array([[1., 0., 0., 0.],\n",
       "       [0., 1., 0., 0.],\n",
       "       [0., 0., 1., 0.],\n",
       "       [0., 0., 0., 1.]])"
      ]
     },
     "execution_count": 24,
     "metadata": {},
     "output_type": "execute_result"
    }
   ],
   "source": [
    "# CREATING IDENTITY MATRIX\n",
    "\n",
    "np.eye(4) # it is two dimensional square matrix with diagonal elements 1"
   ]
  },
  {
   "cell_type": "markdown",
   "id": "e81073fe",
   "metadata": {},
   "source": [
    "### Creating Array with Random Samples from Uniform Distribution:\n",
    "Discrete Unifrom Distribtion: https://www.youtube.com/watch?v=cyIEhL92wiw\n",
    "<br>Continuous Uniform Distribution: https://www.youtube.com/watch?v=j8XLYFzTJzE "
   ]
  },
  {
   "cell_type": "code",
   "execution_count": 26,
   "id": "147cb1d5",
   "metadata": {},
   "outputs": [
    {
     "data": {
      "text/plain": [
       "array([0.43024548, 0.82488903, 0.81980828, 0.25421087, 0.65359645])"
      ]
     },
     "execution_count": 26,
     "metadata": {},
     "output_type": "execute_result"
    }
   ],
   "source": [
    "# Creating matrix with random numbers\n",
    "\n",
    "# Creates an array of the given shape and populate it with random samples from a uniform probability distribution over [0, 1).\n",
    "\n",
    "np.random.rand(5)  # 1-d array"
   ]
  },
  {
   "cell_type": "code",
   "execution_count": 28,
   "id": "c55466b4",
   "metadata": {},
   "outputs": [
    {
     "data": {
      "text/plain": [
       "array([[0.1654348 , 0.54063999, 0.53661085, 0.98253241, 0.44483459],\n",
       "       [0.0856221 , 0.80881413, 0.54437122, 0.43450337, 0.21495645],\n",
       "       [0.73335945, 0.31383571, 0.21368997, 0.95318831, 0.16377156],\n",
       "       [0.74545446, 0.95294184, 0.15975905, 0.02114818, 0.35498012],\n",
       "       [0.97420774, 0.53557397, 0.01218759, 0.69218881, 0.56425509]])"
      ]
     },
     "execution_count": 28,
     "metadata": {},
     "output_type": "execute_result"
    }
   ],
   "source": [
    "np.random.rand(5,5) # 2-d array; we dont pass tuple here"
   ]
  },
  {
   "cell_type": "code",
   "execution_count": 30,
   "id": "8d5c6f9c",
   "metadata": {},
   "outputs": [
    {
     "data": {
      "text/plain": [
       "array([-0.56836271,  1.94453625,  0.66962843,  1.49525082,  0.62480824])"
      ]
     },
     "execution_count": 30,
     "metadata": {},
     "output_type": "execute_result"
    }
   ],
   "source": [
    "# Random Samples from normal distribution (bell-shaped) centered around 0 or gaussian distribution\n",
    "np.random.randn(5)"
   ]
  },
  {
   "cell_type": "code",
   "execution_count": 32,
   "id": "41527362",
   "metadata": {},
   "outputs": [
    {
     "data": {
      "text/plain": [
       "array([[ 0.52226552,  0.08008706, -1.07292016, -0.01567058],\n",
       "       [ 0.6798529 , -0.71779133, -0.88364748,  1.5564843 ],\n",
       "       [-0.25421811,  0.05525074, -1.71684606, -0.37036133],\n",
       "       [ 0.36595029, -1.02306931,  0.68118208, -0.58650198]])"
      ]
     },
     "execution_count": 32,
     "metadata": {},
     "output_type": "execute_result"
    }
   ],
   "source": [
    "np.random.randn(4,4) # 2-d array; we dont pass tuple here"
   ]
  },
  {
   "cell_type": "code",
   "execution_count": 34,
   "id": "bc71e2ef",
   "metadata": {},
   "outputs": [
    {
     "data": {
      "text/plain": [
       "32"
      ]
     },
     "execution_count": 34,
     "metadata": {},
     "output_type": "execute_result"
    }
   ],
   "source": [
    "# random integer between low to high value\n",
    "np.random.randint(1,100) # 1- inclusive, 100-exclusive"
   ]
  },
  {
   "cell_type": "code",
   "execution_count": 37,
   "id": "1592813d",
   "metadata": {},
   "outputs": [
    {
     "data": {
      "text/plain": [
       "array([70, 95, 21, 47, 99, 82, 41, 87, 63, 58])"
      ]
     },
     "execution_count": 37,
     "metadata": {},
     "output_type": "execute_result"
    }
   ],
   "source": [
    "np.random.randint(1,100, 10)  # third arg - number of random integers we want"
   ]
  },
  {
   "cell_type": "markdown",
   "id": "ce6e3087",
   "metadata": {},
   "source": [
    "### Attributes and Methods of an Array"
   ]
  },
  {
   "cell_type": "code",
   "execution_count": 16,
   "id": "db6efdc7",
   "metadata": {},
   "outputs": [],
   "source": [
    "arr = np.arange(16)"
   ]
  },
  {
   "cell_type": "code",
   "execution_count": 17,
   "id": "052818b3",
   "metadata": {},
   "outputs": [
    {
     "data": {
      "text/plain": [
       "array([ 0,  1,  2,  3,  4,  5,  6,  7,  8,  9, 10, 11, 12, 13, 14, 15])"
      ]
     },
     "execution_count": 17,
     "metadata": {},
     "output_type": "execute_result"
    }
   ],
   "source": [
    "arr # 1-dimensional array of 0 upto 24 "
   ]
  },
  {
   "cell_type": "code",
   "execution_count": 45,
   "id": "89d1039d",
   "metadata": {},
   "outputs": [],
   "source": [
    "ran_arr = np.random.randint(0,50, 10)"
   ]
  },
  {
   "cell_type": "code",
   "execution_count": 48,
   "id": "2b8f4810",
   "metadata": {},
   "outputs": [
    {
     "data": {
      "text/plain": [
       "array([30,  0, 35, 23, 14, 45, 39, 15, 25, 48])"
      ]
     },
     "execution_count": 48,
     "metadata": {},
     "output_type": "execute_result"
    }
   ],
   "source": [
    "ran_arr"
   ]
  },
  {
   "cell_type": "code",
   "execution_count": 19,
   "id": "9c862839",
   "metadata": {},
   "outputs": [
    {
     "data": {
      "text/plain": [
       "array([[ 0,  1,  2,  3],\n",
       "       [ 4,  5,  6,  7],\n",
       "       [ 8,  9, 10, 11],\n",
       "       [12, 13, 14, 15]])"
      ]
     },
     "execution_count": 19,
     "metadata": {},
     "output_type": "execute_result"
    }
   ],
   "source": [
    "# RESHAPE METHOD - returns the same data but in new shape\n",
    "\n",
    "# it useful for converting 1d array produced from methods like np.arange(), np.linspace() which does not have functionality to \n",
    "# produce 2d arrays\n",
    "\n",
    "arr.reshape(4,4) # pass the new dimensions we want"
   ]
  },
  {
   "cell_type": "code",
   "execution_count": 21,
   "id": "6c29e22c",
   "metadata": {},
   "outputs": [
    {
     "data": {
      "text/plain": [
       "array([[ 0,  1],\n",
       "       [ 2,  3],\n",
       "       [ 4,  5],\n",
       "       [ 6,  7],\n",
       "       [ 8,  9],\n",
       "       [10, 11],\n",
       "       [12, 13],\n",
       "       [14, 15]])"
      ]
     },
     "execution_count": 21,
     "metadata": {},
     "output_type": "execute_result"
    }
   ],
   "source": [
    "arr.reshape(8,2) "
   ]
  },
  {
   "cell_type": "code",
   "execution_count": 23,
   "id": "0a7cc9e3",
   "metadata": {},
   "outputs": [
    {
     "data": {
      "text/plain": [
       "array([[ 0],\n",
       "       [ 1],\n",
       "       [ 2],\n",
       "       [ 3],\n",
       "       [ 4],\n",
       "       [ 5],\n",
       "       [ 6],\n",
       "       [ 7],\n",
       "       [ 8],\n",
       "       [ 9],\n",
       "       [10],\n",
       "       [11],\n",
       "       [12],\n",
       "       [13],\n",
       "       [14],\n",
       "       [15]])"
      ]
     },
     "execution_count": 23,
     "metadata": {},
     "output_type": "execute_result"
    }
   ],
   "source": [
    "arr.reshape(16,1) "
   ]
  },
  {
   "cell_type": "code",
   "execution_count": 24,
   "id": "0ba520cb",
   "metadata": {},
   "outputs": [
    {
     "data": {
      "text/plain": [
       "array([[ 0,  1,  2,  3,  4,  5,  6,  7,  8,  9, 10, 11, 12, 13, 14, 15]])"
      ]
     },
     "execution_count": 24,
     "metadata": {},
     "output_type": "execute_result"
    }
   ],
   "source": [
    "arr.reshape(1,16)  # notice that it is 2d array"
   ]
  },
  {
   "cell_type": "code",
   "execution_count": 52,
   "id": "045d6afd",
   "metadata": {},
   "outputs": [
    {
     "ename": "ValueError",
     "evalue": "cannot reshape array of size 25 into shape (5,10)",
     "output_type": "error",
     "traceback": [
      "\u001b[1;31m---------------------------------------------------------------------------\u001b[0m",
      "\u001b[1;31mValueError\u001b[0m                                Traceback (most recent call last)",
      "\u001b[1;32m~\\AppData\\Local\\Temp/ipykernel_11552/1650138115.py\u001b[0m in \u001b[0;36m<module>\u001b[1;34m\u001b[0m\n\u001b[0;32m      1\u001b[0m \u001b[1;31m# we might get an error if we cannot fill up that matrix completely\u001b[0m\u001b[1;33m\u001b[0m\u001b[1;33m\u001b[0m\u001b[0m\n\u001b[0;32m      2\u001b[0m \u001b[1;33m\u001b[0m\u001b[0m\n\u001b[1;32m----> 3\u001b[1;33m \u001b[0marr\u001b[0m\u001b[1;33m.\u001b[0m\u001b[0mreshape\u001b[0m\u001b[1;33m(\u001b[0m\u001b[1;36m5\u001b[0m\u001b[1;33m,\u001b[0m\u001b[1;36m10\u001b[0m\u001b[1;33m)\u001b[0m\u001b[1;33m\u001b[0m\u001b[1;33m\u001b[0m\u001b[0m\n\u001b[0m",
      "\u001b[1;31mValueError\u001b[0m: cannot reshape array of size 25 into shape (5,10)"
     ]
    }
   ],
   "source": [
    "# we might get an error if we cannot fill up that matrix completely\n",
    "\n",
    "arr.reshape(5,10)"
   ]
  },
  {
   "cell_type": "code",
   "execution_count": 54,
   "id": "16b52f55",
   "metadata": {},
   "outputs": [
    {
     "ename": "ValueError",
     "evalue": "cannot reshape array of size 25 into shape (2,3)",
     "output_type": "error",
     "traceback": [
      "\u001b[1;31m---------------------------------------------------------------------------\u001b[0m",
      "\u001b[1;31mValueError\u001b[0m                                Traceback (most recent call last)",
      "\u001b[1;32m~\\AppData\\Local\\Temp/ipykernel_11552/1233696228.py\u001b[0m in \u001b[0;36m<module>\u001b[1;34m\u001b[0m\n\u001b[1;32m----> 1\u001b[1;33m \u001b[0marr\u001b[0m\u001b[1;33m.\u001b[0m\u001b[0mreshape\u001b[0m\u001b[1;33m(\u001b[0m\u001b[1;36m2\u001b[0m\u001b[1;33m,\u001b[0m\u001b[1;36m3\u001b[0m\u001b[1;33m)\u001b[0m\u001b[1;33m\u001b[0m\u001b[1;33m\u001b[0m\u001b[0m\n\u001b[0m",
      "\u001b[1;31mValueError\u001b[0m: cannot reshape array of size 25 into shape (2,3)"
     ]
    }
   ],
   "source": [
    "arr.reshape(2,3)"
   ]
  },
  {
   "cell_type": "code",
   "execution_count": 56,
   "id": "b9d67406",
   "metadata": {},
   "outputs": [],
   "source": [
    "# rows * columns = number of elements in the array"
   ]
  },
  {
   "cell_type": "code",
   "execution_count": 58,
   "id": "100eeeee",
   "metadata": {},
   "outputs": [
    {
     "data": {
      "text/plain": [
       "48"
      ]
     },
     "execution_count": 58,
     "metadata": {},
     "output_type": "execute_result"
    }
   ],
   "source": [
    "# MAX VALUE\n",
    "ran_arr.max()"
   ]
  },
  {
   "cell_type": "code",
   "execution_count": 60,
   "id": "fa469e8b",
   "metadata": {},
   "outputs": [
    {
     "data": {
      "text/plain": [
       "0"
      ]
     },
     "execution_count": 60,
     "metadata": {},
     "output_type": "execute_result"
    }
   ],
   "source": [
    "ran_arr.min()"
   ]
  },
  {
   "cell_type": "code",
   "execution_count": 62,
   "id": "af1ff9d4",
   "metadata": {},
   "outputs": [
    {
     "data": {
      "text/plain": [
       "24"
      ]
     },
     "execution_count": 62,
     "metadata": {},
     "output_type": "execute_result"
    }
   ],
   "source": [
    "arr.max() # works even for 2-dimensional arrays"
   ]
  },
  {
   "cell_type": "code",
   "execution_count": 73,
   "id": "5d72baa3",
   "metadata": {},
   "outputs": [
    {
     "data": {
      "text/plain": [
       "9"
      ]
     },
     "execution_count": 73,
     "metadata": {},
     "output_type": "execute_result"
    }
   ],
   "source": [
    "# GETTING MIN INDEX & MAX INDEX\n",
    "ran_arr.argmax()  "
   ]
  },
  {
   "cell_type": "code",
   "execution_count": 75,
   "id": "d1163981",
   "metadata": {},
   "outputs": [],
   "source": [
    "arr = arr.reshape(5,5)"
   ]
  },
  {
   "cell_type": "code",
   "execution_count": 76,
   "id": "ee50904b",
   "metadata": {},
   "outputs": [
    {
     "data": {
      "text/plain": [
       "24"
      ]
     },
     "execution_count": 76,
     "metadata": {},
     "output_type": "execute_result"
    }
   ],
   "source": [
    "arr.argmax() # By default, the index is into the flattened array, otherwise along the specified axis."
   ]
  },
  {
   "cell_type": "code",
   "execution_count": 77,
   "id": "8f7965f6",
   "metadata": {},
   "outputs": [
    {
     "data": {
      "text/plain": [
       "(5, 5)"
      ]
     },
     "execution_count": 77,
     "metadata": {},
     "output_type": "execute_result"
    }
   ],
   "source": [
    "# SHAPE\n",
    "\n",
    "arr.shape"
   ]
  },
  {
   "cell_type": "code",
   "execution_count": 80,
   "id": "1d265171",
   "metadata": {},
   "outputs": [
    {
     "data": {
      "text/plain": [
       "(10,)"
      ]
     },
     "execution_count": 80,
     "metadata": {},
     "output_type": "execute_result"
    }
   ],
   "source": [
    "ran_arr.shape  # indicates its 1-dimensional array"
   ]
  },
  {
   "cell_type": "code",
   "execution_count": 83,
   "id": "90bc3500",
   "metadata": {},
   "outputs": [
    {
     "data": {
      "text/plain": [
       "dtype('int32')"
      ]
     },
     "execution_count": 83,
     "metadata": {},
     "output_type": "execute_result"
    }
   ],
   "source": [
    "arr.dtype  # data type in the array"
   ]
  },
  {
   "cell_type": "markdown",
   "id": "503e1932",
   "metadata": {},
   "source": [
    "### QUICK REVIEW\n",
    "\n",
    "1. Create numpy arrays:\n",
    "    - Casting a list - `np.array()`\n",
    "    - Built-in functions - `np.arange()`, `np.zeros()`, `np.ones()`, `np.linspace()`, `np.eye()`\n",
    "    - Random generation functions - `np.random.rand()`, `np.random.randn()`, `np.random.randint()`\n",
    "2. Methods: `arr.reshape()`, `arr.min()`, `arr.max()`, `arr.argmin()`, `arr.argmax()`, `arr.shape`, `arr.dtype`"
   ]
  }
 ],
 "metadata": {
  "kernelspec": {
   "display_name": "Python 3 (ipykernel)",
   "language": "python",
   "name": "python3"
  },
  "language_info": {
   "codemirror_mode": {
    "name": "ipython",
    "version": 3
   },
   "file_extension": ".py",
   "mimetype": "text/x-python",
   "name": "python",
   "nbconvert_exporter": "python",
   "pygments_lexer": "ipython3",
   "version": "3.9.7"
  }
 },
 "nbformat": 4,
 "nbformat_minor": 5
}
