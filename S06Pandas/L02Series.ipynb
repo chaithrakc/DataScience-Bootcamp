{
 "cells": [
  {
   "cell_type": "code",
   "execution_count": 1,
   "id": "4f8e03b9",
   "metadata": {},
   "outputs": [],
   "source": [
    "# Name: Chaithra Kopparam Cheluvaiah\n",
    "# Nov 24, 2021\n",
    "# First main pandas data type, we will be learning"
   ]
  },
  {
   "cell_type": "markdown",
   "id": "27c35bce",
   "metadata": {},
   "source": [
    "### SERIES\n",
    "1. It is very similar to numpy arrays((also looks similar to R vectors). in fact, it is built on top of numpy array object.\n",
    "2. what differentiates numpy arrays from panda series is that a series can have axis labels meaning it can be indexed by labels\n",
    "3. numpy arrays can only have numeric values\n",
    "4. it stores function refrences also unlike numpy arrays"
   ]
  },
  {
   "cell_type": "code",
   "execution_count": 1,
   "id": "9e4dd179",
   "metadata": {},
   "outputs": [],
   "source": [
    "import numpy as np\n",
    "import pandas as pd"
   ]
  },
  {
   "cell_type": "code",
   "execution_count": 3,
   "id": "c18ad60a",
   "metadata": {},
   "outputs": [],
   "source": [
    "# creating lists\n",
    "labels = ['a','b','c']\n",
    "my_data = [10,20,30]\n",
    "arr = np.array(my_data)\n",
    "d = {'a':10, 'b':20, 'c':30}"
   ]
  },
  {
   "cell_type": "code",
   "execution_count": 6,
   "id": "38a447e6",
   "metadata": {},
   "outputs": [
    {
     "data": {
      "text/plain": [
       "0    10\n",
       "1    20\n",
       "2    30\n",
       "dtype: int64"
      ]
     },
     "execution_count": 6,
     "metadata": {},
     "output_type": "execute_result"
    }
   ],
   "source": [
    "# creating series\n",
    "pd.Series(data=my_data) # will focus on data and index params"
   ]
  },
  {
   "cell_type": "code",
   "execution_count": 8,
   "id": "f60286db",
   "metadata": {},
   "outputs": [
    {
     "data": {
      "text/plain": [
       "a    10\n",
       "b    20\n",
       "c    30\n",
       "dtype: int64"
      ]
     },
     "execution_count": 8,
     "metadata": {},
     "output_type": "execute_result"
    }
   ],
   "source": [
    "pd.Series(data=my_data, index=labels) # we can specify what index needs to be unlike numpy"
   ]
  },
  {
   "cell_type": "code",
   "execution_count": 9,
   "id": "2d3267fb",
   "metadata": {},
   "outputs": [
    {
     "data": {
      "text/plain": [
       "0    10\n",
       "1    20\n",
       "2    30\n",
       "dtype: int32"
      ]
     },
     "execution_count": 9,
     "metadata": {},
     "output_type": "execute_result"
    }
   ],
   "source": [
    "pd.Series(arr) # numpy arrays also works similar to python lists when passing to series"
   ]
  },
  {
   "cell_type": "code",
   "execution_count": 10,
   "id": "9a1be74f",
   "metadata": {},
   "outputs": [
    {
     "data": {
      "text/plain": [
       "a    10\n",
       "b    20\n",
       "c    30\n",
       "dtype: int64"
      ]
     },
     "execution_count": 10,
     "metadata": {},
     "output_type": "execute_result"
    }
   ],
   "source": [
    "pd.Series(d) # keys as index, values as data point. quick way to create series"
   ]
  },
  {
   "cell_type": "code",
   "execution_count": 11,
   "id": "70b9d58b",
   "metadata": {},
   "outputs": [
    {
     "data": {
      "text/plain": [
       "0    a\n",
       "1    b\n",
       "2    c\n",
       "dtype: object"
      ]
     },
     "execution_count": 11,
     "metadata": {},
     "output_type": "execute_result"
    }
   ],
   "source": [
    "pd.Series(labels) # it can hold strings or any data type"
   ]
  },
  {
   "cell_type": "code",
   "execution_count": 2,
   "id": "d872846f",
   "metadata": {},
   "outputs": [
    {
     "data": {
      "text/plain": [
       "0      <built-in function sum>\n",
       "1    <built-in function print>\n",
       "2      <built-in function len>\n",
       "dtype: object"
      ]
     },
     "execution_count": 2,
     "metadata": {},
     "output_type": "execute_result"
    }
   ],
   "source": [
    "pd.Series(data=[sum, print, len]) # it stores function refrences also unlike numpy arrays"
   ]
  },
  {
   "cell_type": "code",
   "execution_count": 3,
   "id": "44846fde",
   "metadata": {},
   "outputs": [
    {
     "data": {
      "text/plain": [
       "0        1\n",
       "1    print\n",
       "2    344.5\n",
       "dtype: object"
      ]
     },
     "execution_count": 3,
     "metadata": {},
     "output_type": "execute_result"
    }
   ],
   "source": [
    "pd.Series(data=[1, 'print', 344.5]) # it can hold values of diffetent types unlike numpy"
   ]
  },
  {
   "cell_type": "markdown",
   "id": "44b23043",
   "metadata": {},
   "source": [
    "**Keys or Indexes are used for fast look up for information. It works just like hastable or dictionaries.**"
   ]
  },
  {
   "cell_type": "code",
   "execution_count": 13,
   "id": "dbaa4ee6",
   "metadata": {},
   "outputs": [],
   "source": [
    "# difference between numpy and pandas\n",
    "# 1. indexed by labels\n",
    "# 2. stores any type of data, even function references."
   ]
  },
  {
   "cell_type": "markdown",
   "id": "3d3195b3",
   "metadata": {},
   "source": [
    "### How to access elements in Series"
   ]
  },
  {
   "cell_type": "code",
   "execution_count": 14,
   "id": "7c7a2ce8",
   "metadata": {},
   "outputs": [
    {
     "data": {
      "text/plain": [
       "USA        1\n",
       "Germany    2\n",
       "USSR       3\n",
       "Japan      4\n",
       "dtype: int64"
      ]
     },
     "execution_count": 14,
     "metadata": {},
     "output_type": "execute_result"
    }
   ],
   "source": [
    "ser1 = pd.Series([1,2,3,4],['USA','Germany','USSR','Japan'])\n",
    "ser1"
   ]
  },
  {
   "cell_type": "code",
   "execution_count": 15,
   "id": "dc1bc8de",
   "metadata": {},
   "outputs": [
    {
     "data": {
      "text/plain": [
       "USA        1\n",
       "Germany    2\n",
       "Italy      5\n",
       "Japan      4\n",
       "dtype: int64"
      ]
     },
     "execution_count": 15,
     "metadata": {},
     "output_type": "execute_result"
    }
   ],
   "source": [
    "ser2 = pd.Series([1,2,5,4],['USA','Germany','Italy','Japan'])\n",
    "ser2"
   ]
  },
  {
   "cell_type": "code",
   "execution_count": 16,
   "id": "5e008e28",
   "metadata": {},
   "outputs": [
    {
     "data": {
      "text/plain": [
       "1"
      ]
     },
     "execution_count": 16,
     "metadata": {},
     "output_type": "execute_result"
    }
   ],
   "source": [
    "ser1['USA'] # should be aware of what index is string/integer"
   ]
  },
  {
   "cell_type": "code",
   "execution_count": 17,
   "id": "17da21f9",
   "metadata": {},
   "outputs": [],
   "source": [
    "ser3 = pd.Series(data=labels)"
   ]
  },
  {
   "cell_type": "code",
   "execution_count": 18,
   "id": "75ae7c0b",
   "metadata": {},
   "outputs": [
    {
     "data": {
      "text/plain": [
       "'a'"
      ]
     },
     "execution_count": 18,
     "metadata": {},
     "output_type": "execute_result"
    }
   ],
   "source": [
    "ser3[0] # integer index"
   ]
  },
  {
   "cell_type": "markdown",
   "id": "4d177e52",
   "metadata": {},
   "source": [
    "**Basic operations in Series are usually based off of index**"
   ]
  },
  {
   "cell_type": "code",
   "execution_count": 19,
   "id": "331565de",
   "metadata": {},
   "outputs": [
    {
     "data": {
      "text/plain": [
       "Germany    4.0\n",
       "Italy      NaN\n",
       "Japan      8.0\n",
       "USA        2.0\n",
       "USSR       NaN\n",
       "dtype: float64"
      ]
     },
     "execution_count": 19,
     "metadata": {},
     "output_type": "execute_result"
    }
   ],
   "source": [
    "ser1+ser2 "
   ]
  },
  {
   "cell_type": "markdown",
   "id": "ace4b45f",
   "metadata": {},
   "source": [
    "**NOTE: WHEN PERFORMING OPERATIONS ON PANDAS SERIES WITH ANY NUMPY OR PANDAS OBJECT, INTEGERS ARE GOING TO BE CONVERTED TO FLOAT.\n",
    "    SO THAT WE DONT LOOSE THE INFORMATION ACCIDENTALLY.**"
   ]
  }
 ],
 "metadata": {
  "kernelspec": {
   "display_name": "Python 3 (ipykernel)",
   "language": "python",
   "name": "python3"
  },
  "language_info": {
   "codemirror_mode": {
    "name": "ipython",
    "version": 3
   },
   "file_extension": ".py",
   "mimetype": "text/x-python",
   "name": "python",
   "nbconvert_exporter": "python",
   "pygments_lexer": "ipython3",
   "version": "3.9.7"
  }
 },
 "nbformat": 4,
 "nbformat_minor": 5
}
