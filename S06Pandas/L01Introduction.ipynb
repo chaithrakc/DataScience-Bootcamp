{
 "cells": [
  {
   "cell_type": "code",
   "execution_count": 1,
   "id": "6295d8ce",
   "metadata": {},
   "outputs": [],
   "source": [
    "# Name: Chaithra Kopparam Cheluvaiah\n",
    "# Nov 24, 2021"
   ]
  },
  {
   "cell_type": "markdown",
   "id": "1c3ff343",
   "metadata": {},
   "source": [
    "# Introduction to Pandas"
   ]
  },
  {
   "cell_type": "markdown",
   "id": "e656f4a6",
   "metadata": {},
   "source": [
    "1. Pandas is an open-source library built on top of NumPy\n",
    "2. It is python version of Excel or R DataFrames\n",
    "3. It allows for fast analysis, data cleaning and preparation\n",
    "4. It excels in performance and productivity\n",
    "5. It also has built-in visualization features\n",
    "6. It can work with data from a wide variety of sources\n",
    "\n",
    "```python\n",
    "conda install pandas\n",
    "pip install pandas\n",
    "```\n",
    "\n",
    "**Learning Objectives:**\n",
    "\n",
    "- Series\n",
    "- DataFrames\n",
    "- Missing Data\n",
    "- GroupBy\n",
    "- Mergining, Joining and Concatenating\n",
    "- Operations,\n",
    "- Data Input and Output - CSV, Excel, SQL etc.,"
   ]
  }
 ],
 "metadata": {
  "kernelspec": {
   "display_name": "Python 3 (ipykernel)",
   "language": "python",
   "name": "python3"
  },
  "language_info": {
   "codemirror_mode": {
    "name": "ipython",
    "version": 3
   },
   "file_extension": ".py",
   "mimetype": "text/x-python",
   "name": "python",
   "nbconvert_exporter": "python",
   "pygments_lexer": "ipython3",
   "version": "3.9.7"
  }
 },
 "nbformat": 4,
 "nbformat_minor": 5
}
