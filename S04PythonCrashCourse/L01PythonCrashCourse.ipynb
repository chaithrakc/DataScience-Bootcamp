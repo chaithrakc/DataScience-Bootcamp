{
 "cells": [
  {
   "cell_type": "markdown",
   "id": "156cb6aa",
   "metadata": {},
   "source": [
    "# PYTHON CRASH COURSE\n",
    "#### Nov 23, 2021\n",
    "#### Author: Chaithra Kopparam Cheluvaiah"
   ]
  },
  {
   "cell_type": "markdown",
   "id": "74b8d02e",
   "metadata": {},
   "source": [
    "### STRING \n",
    "- formatting \n",
    "- immutable\n",
    "- slicing"
   ]
  },
  {
   "cell_type": "code",
   "execution_count": 64,
   "id": "8cfdcda1",
   "metadata": {},
   "outputs": [],
   "source": [
    "num = 12\n",
    "name= 'Chaithra'"
   ]
  },
  {
   "cell_type": "code",
   "execution_count": 12,
   "id": "53aa8d28",
   "metadata": {},
   "outputs": [
    {
     "data": {
      "text/plain": [
       "'my num is 12 and my name is Chaithra'"
      ]
     },
     "execution_count": 12,
     "metadata": {},
     "output_type": "execute_result"
    }
   ],
   "source": [
    "'my num is {} and my name is {}'.format(num, name)"
   ]
  },
  {
   "cell_type": "code",
   "execution_count": 13,
   "id": "276f7cca",
   "metadata": {},
   "outputs": [
    {
     "data": {
      "text/plain": [
       "'my num is 12 and my name is Chaithra, more 12'"
      ]
     },
     "execution_count": 13,
     "metadata": {},
     "output_type": "execute_result"
    }
   ],
   "source": [
    "'my num is {one} and my name is {two}, more {one}'.format(one=num, two=name) # more suggested way\n",
    "# no need to worry about formatting being in exact same order"
   ]
  },
  {
   "cell_type": "code",
   "execution_count": 1,
   "id": "129f2ad2",
   "metadata": {},
   "outputs": [],
   "source": [
    "var = 'chaithra kopparam cheluvaiah'"
   ]
  },
  {
   "cell_type": "code",
   "execution_count": 23,
   "id": "317aa27e",
   "metadata": {},
   "outputs": [
    {
     "data": {
      "text/plain": [
       "'h'"
      ]
     },
     "execution_count": 23,
     "metadata": {},
     "output_type": "execute_result"
    }
   ],
   "source": [
    "var[5]  # indexing the string"
   ]
  },
  {
   "cell_type": "code",
   "execution_count": 16,
   "id": "a72cc6e1",
   "metadata": {},
   "outputs": [
    {
     "data": {
      "text/plain": [
       "'chaithra kopparam cheluvaiah'"
      ]
     },
     "execution_count": 16,
     "metadata": {},
     "output_type": "execute_result"
    }
   ],
   "source": [
    "var[0:] # all the characters starting from index 0"
   ]
  },
  {
   "cell_type": "code",
   "execution_count": 18,
   "id": "c5313a04",
   "metadata": {},
   "outputs": [
    {
     "data": {
      "text/plain": [
       "'it'"
      ]
     },
     "execution_count": 18,
     "metadata": {},
     "output_type": "execute_result"
    }
   ],
   "source": [
    "var[3:5] # all the characters starting from index 3 - 4"
   ]
  },
  {
   "cell_type": "code",
   "execution_count": 20,
   "id": "ecc9f252",
   "metadata": {},
   "outputs": [
    {
     "data": {
      "text/plain": [
       "'chaithra kopparam cheluvaiah'"
      ]
     },
     "execution_count": 20,
     "metadata": {},
     "output_type": "execute_result"
    }
   ],
   "source": [
    "var[:] # all the characters"
   ]
  },
  {
   "cell_type": "code",
   "execution_count": 25,
   "id": "a8f552f2",
   "metadata": {},
   "outputs": [
    {
     "ename": "TypeError",
     "evalue": "'str' object does not support item assignment",
     "output_type": "error",
     "traceback": [
      "\u001b[1;31m---------------------------------------------------------------------------\u001b[0m",
      "\u001b[1;31mTypeError\u001b[0m                                 Traceback (most recent call last)",
      "\u001b[1;32m~\\AppData\\Local\\Temp/ipykernel_20580/4177215206.py\u001b[0m in \u001b[0;36m<module>\u001b[1;34m\u001b[0m\n\u001b[1;32m----> 1\u001b[1;33m \u001b[0mvar\u001b[0m\u001b[1;33m[\u001b[0m\u001b[1;36m0\u001b[0m\u001b[1;33m]\u001b[0m \u001b[1;33m=\u001b[0m \u001b[1;34m'z'\u001b[0m \u001b[1;31m# strings are immutable\u001b[0m\u001b[1;33m\u001b[0m\u001b[1;33m\u001b[0m\u001b[0m\n\u001b[0m",
      "\u001b[1;31mTypeError\u001b[0m: 'str' object does not support item assignment"
     ]
    }
   ],
   "source": [
    "var[0] = 'z' # strings are immutable"
   ]
  },
  {
   "cell_type": "code",
   "execution_count": 5,
   "id": "3e552493",
   "metadata": {},
   "outputs": [
    {
     "data": {
      "text/plain": [
       "'haiavulehc marappok arhtiahc'"
      ]
     },
     "execution_count": 5,
     "metadata": {},
     "output_type": "execute_result"
    }
   ],
   "source": [
    "var[::-1] # reversing the strinng"
   ]
  },
  {
   "cell_type": "code",
   "execution_count": 6,
   "id": "d5770b3b",
   "metadata": {},
   "outputs": [
    {
     "data": {
      "text/plain": [
       "'hivlh aapkahih'"
      ]
     },
     "execution_count": 6,
     "metadata": {},
     "output_type": "execute_result"
    }
   ],
   "source": [
    "var[::-2]  # keeps subtracting step size 2 from the end index"
   ]
  },
  {
   "cell_type": "code",
   "execution_count": 18,
   "id": "ee16f00c",
   "metadata": {},
   "outputs": [
    {
     "data": {
      "text/plain": [
       "'cirkpaclah'"
      ]
     },
     "execution_count": 18,
     "metadata": {},
     "output_type": "execute_result"
    }
   ],
   "source": [
    "# var = 'chaithra kopparam cheluvaiah'\n",
    "var[::3]  # keeps adding step size 3 to the start index"
   ]
  },
  {
   "cell_type": "markdown",
   "id": "d460191f",
   "metadata": {},
   "source": [
    "### LIST\n",
    "- slicing\n",
    "- mutable\n",
    "- nested list"
   ]
  },
  {
   "cell_type": "code",
   "execution_count": 2,
   "id": "97f35732",
   "metadata": {},
   "outputs": [],
   "source": [
    "my_list = ['a','b','c','d','e']"
   ]
  },
  {
   "cell_type": "code",
   "execution_count": 3,
   "id": "57075ddd",
   "metadata": {},
   "outputs": [
    {
     "data": {
      "text/plain": [
       "['b', 'c', 'd']"
      ]
     },
     "execution_count": 3,
     "metadata": {},
     "output_type": "execute_result"
    }
   ],
   "source": [
    "my_list[1:4] # list slicing"
   ]
  },
  {
   "cell_type": "code",
   "execution_count": 19,
   "id": "82f8f45e",
   "metadata": {},
   "outputs": [
    {
     "data": {
      "text/plain": [
       "['b', 'c', 'd', 'e']"
      ]
     },
     "execution_count": 19,
     "metadata": {},
     "output_type": "execute_result"
    }
   ],
   "source": [
    "my_list[1:5] # last index does not exist but it doesnt give any error"
   ]
  },
  {
   "cell_type": "code",
   "execution_count": 29,
   "id": "f496f09c",
   "metadata": {},
   "outputs": [],
   "source": [
    "my_list[0] = 'New' # list is mutable"
   ]
  },
  {
   "cell_type": "code",
   "execution_count": 30,
   "id": "14d54760",
   "metadata": {},
   "outputs": [
    {
     "data": {
      "text/plain": [
       "['New', 'b', 'c', 'd', 'e']"
      ]
     },
     "execution_count": 30,
     "metadata": {},
     "output_type": "execute_result"
    }
   ],
   "source": [
    "my_list"
   ]
  },
  {
   "cell_type": "code",
   "execution_count": 32,
   "id": "e9acf27a",
   "metadata": {},
   "outputs": [],
   "source": [
    "nested_list = [1,2,[3,4]]"
   ]
  },
  {
   "cell_type": "code",
   "execution_count": 33,
   "id": "820513e7",
   "metadata": {},
   "outputs": [
    {
     "data": {
      "text/plain": [
       "[3, 4]"
      ]
     },
     "execution_count": 33,
     "metadata": {},
     "output_type": "execute_result"
    }
   ],
   "source": [
    "nested_list[2]"
   ]
  },
  {
   "cell_type": "code",
   "execution_count": 34,
   "id": "52d34fdb",
   "metadata": {},
   "outputs": [
    {
     "data": {
      "text/plain": [
       "3"
      ]
     },
     "execution_count": 34,
     "metadata": {},
     "output_type": "execute_result"
    }
   ],
   "source": [
    "nested_list[2][0] # in numpy, this syntax is used for 2d array selection"
   ]
  },
  {
   "cell_type": "code",
   "execution_count": 35,
   "id": "4c6a6ffc",
   "metadata": {},
   "outputs": [],
   "source": [
    "deep_nested = [1,2,[3,4,['target']]]"
   ]
  },
  {
   "cell_type": "code",
   "execution_count": 36,
   "id": "005c600a",
   "metadata": {},
   "outputs": [
    {
     "data": {
      "text/plain": [
       "[3, 4, ['target']]"
      ]
     },
     "execution_count": 36,
     "metadata": {},
     "output_type": "execute_result"
    }
   ],
   "source": [
    "deep_nested[2]"
   ]
  },
  {
   "cell_type": "code",
   "execution_count": 37,
   "id": "32c9bf2d",
   "metadata": {},
   "outputs": [
    {
     "data": {
      "text/plain": [
       "['target']"
      ]
     },
     "execution_count": 37,
     "metadata": {},
     "output_type": "execute_result"
    }
   ],
   "source": [
    "deep_nested[2][2] # note that output is still a list with single element"
   ]
  },
  {
   "cell_type": "code",
   "execution_count": 38,
   "id": "bba0f295",
   "metadata": {},
   "outputs": [
    {
     "data": {
      "text/plain": [
       "'target'"
      ]
     },
     "execution_count": 38,
     "metadata": {},
     "output_type": "execute_result"
    }
   ],
   "source": [
    "deep_nested[2][2][0]"
   ]
  },
  {
   "cell_type": "markdown",
   "id": "3a6be45d",
   "metadata": {},
   "source": [
    "### DICTIONARIES \n",
    "- nested dicts\n",
    "- keys are immutable"
   ]
  },
  {
   "cell_type": "code",
   "execution_count": 43,
   "id": "68c448e9",
   "metadata": {},
   "outputs": [],
   "source": [
    "d = {'key1':'v1', 'k2':'v2', 'k3':123}"
   ]
  },
  {
   "cell_type": "code",
   "execution_count": 44,
   "id": "28f775b6",
   "metadata": {},
   "outputs": [
    {
     "data": {
      "text/plain": [
       "'v1'"
      ]
     },
     "execution_count": 44,
     "metadata": {},
     "output_type": "execute_result"
    }
   ],
   "source": [
    "# indexing dictionary\n",
    "d['key1']"
   ]
  },
  {
   "cell_type": "code",
   "execution_count": 45,
   "id": "13217abe",
   "metadata": {},
   "outputs": [
    {
     "data": {
      "text/plain": [
       "123"
      ]
     },
     "execution_count": 45,
     "metadata": {},
     "output_type": "execute_result"
    }
   ],
   "source": [
    "d['k3']"
   ]
  },
  {
   "cell_type": "code",
   "execution_count": 49,
   "id": "5c41db76",
   "metadata": {},
   "outputs": [],
   "source": [
    "# dictionaries can take in any items as their values\n",
    "d = {'k1':[1,2,3]}"
   ]
  },
  {
   "cell_type": "code",
   "execution_count": 50,
   "id": "5dc3307f",
   "metadata": {},
   "outputs": [
    {
     "data": {
      "text/plain": [
       "[1, 2, 3]"
      ]
     },
     "execution_count": 50,
     "metadata": {},
     "output_type": "execute_result"
    }
   ],
   "source": [
    "d['k1']"
   ]
  },
  {
   "cell_type": "code",
   "execution_count": 51,
   "id": "d43e71bb",
   "metadata": {},
   "outputs": [
    {
     "data": {
      "text/plain": [
       "1"
      ]
     },
     "execution_count": 51,
     "metadata": {},
     "output_type": "execute_result"
    }
   ],
   "source": [
    "d['k1'][0]"
   ]
  },
  {
   "cell_type": "code",
   "execution_count": 53,
   "id": "2e46630b",
   "metadata": {},
   "outputs": [
    {
     "data": {
      "text/plain": [
       "1"
      ]
     },
     "execution_count": 53,
     "metadata": {},
     "output_type": "execute_result"
    }
   ],
   "source": [
    "my_list = d['k1']  # better coding\n",
    "my_list[0]"
   ]
  },
  {
   "cell_type": "code",
   "execution_count": 56,
   "id": "c4a1c07d",
   "metadata": {},
   "outputs": [],
   "source": [
    "# nested dictionaries\n",
    "d = {'k1':{'innerkey':[1,2,3]}}"
   ]
  },
  {
   "cell_type": "code",
   "execution_count": 60,
   "id": "fd7f8627",
   "metadata": {},
   "outputs": [
    {
     "data": {
      "text/plain": [
       "2"
      ]
     },
     "execution_count": 60,
     "metadata": {},
     "output_type": "execute_result"
    }
   ],
   "source": [
    "# lets say, we want to access 2 from the list\n",
    "d['k1']['innerkey'][1]"
   ]
  },
  {
   "cell_type": "markdown",
   "id": "8fdcdfcb",
   "metadata": {},
   "source": [
    "### TUPLE \n",
    "- Immutable"
   ]
  },
  {
   "cell_type": "code",
   "execution_count": 61,
   "id": "71fba840",
   "metadata": {},
   "outputs": [],
   "source": [
    "# tuple\n",
    "t = (1,2,3)"
   ]
  },
  {
   "cell_type": "code",
   "execution_count": 62,
   "id": "adce90f7",
   "metadata": {},
   "outputs": [
    {
     "data": {
      "text/plain": [
       "1"
      ]
     },
     "execution_count": 62,
     "metadata": {},
     "output_type": "execute_result"
    }
   ],
   "source": [
    "# indexing tuple\n",
    "t[0]"
   ]
  },
  {
   "cell_type": "code",
   "execution_count": 63,
   "id": "9f4dcba1",
   "metadata": {},
   "outputs": [
    {
     "ename": "TypeError",
     "evalue": "'tuple' object does not support item assignment",
     "output_type": "error",
     "traceback": [
      "\u001b[1;31m---------------------------------------------------------------------------\u001b[0m",
      "\u001b[1;31mTypeError\u001b[0m                                 Traceback (most recent call last)",
      "\u001b[1;32m~\\AppData\\Local\\Temp/ipykernel_20580/2140988817.py\u001b[0m in \u001b[0;36m<module>\u001b[1;34m\u001b[0m\n\u001b[1;32m----> 1\u001b[1;33m \u001b[0mt\u001b[0m\u001b[1;33m[\u001b[0m\u001b[1;36m0\u001b[0m\u001b[1;33m]\u001b[0m \u001b[1;33m=\u001b[0m \u001b[1;34m'NEW'\u001b[0m\u001b[1;33m\u001b[0m\u001b[1;33m\u001b[0m\u001b[0m\n\u001b[0m",
      "\u001b[1;31mTypeError\u001b[0m: 'tuple' object does not support item assignment"
     ]
    }
   ],
   "source": [
    "t[0] = 'NEW'"
   ]
  },
  {
   "cell_type": "markdown",
   "id": "d22d8b14",
   "metadata": {},
   "source": [
    "### SET\n",
    "- creating set from list\n",
    "- add()"
   ]
  },
  {
   "cell_type": "code",
   "execution_count": 65,
   "id": "376016f6",
   "metadata": {},
   "outputs": [
    {
     "data": {
      "text/plain": [
       "{1, 2, 3, 4}"
      ]
     },
     "execution_count": 65,
     "metadata": {},
     "output_type": "execute_result"
    }
   ],
   "source": [
    "{1,2,3,1,1,1,1,1,2,3,4} # keeps unique values"
   ]
  },
  {
   "cell_type": "code",
   "execution_count": 67,
   "id": "f78b9d20",
   "metadata": {},
   "outputs": [
    {
     "data": {
      "text/plain": [
       "{1, 2, 3, 4}"
      ]
     },
     "execution_count": 67,
     "metadata": {},
     "output_type": "execute_result"
    }
   ],
   "source": [
    "set([1,2,3,1,1,1,1,1,2,3,4]) # passing list to set constructor to grab unique elements"
   ]
  },
  {
   "cell_type": "code",
   "execution_count": 68,
   "id": "7938ec74",
   "metadata": {},
   "outputs": [],
   "source": [
    "# add items to set\n",
    "s = {1,2,3}\n",
    "s.add(5)"
   ]
  },
  {
   "cell_type": "code",
   "execution_count": 69,
   "id": "1fdc587d",
   "metadata": {},
   "outputs": [
    {
     "data": {
      "text/plain": [
       "{1, 2, 3, 5}"
      ]
     },
     "execution_count": 69,
     "metadata": {},
     "output_type": "execute_result"
    }
   ],
   "source": [
    "s"
   ]
  },
  {
   "cell_type": "code",
   "execution_count": 70,
   "id": "04fb7581",
   "metadata": {},
   "outputs": [],
   "source": [
    "s.add(5) # it wont retreive error"
   ]
  },
  {
   "cell_type": "code",
   "execution_count": 71,
   "id": "d81ad976",
   "metadata": {},
   "outputs": [
    {
     "data": {
      "text/plain": [
       "{1, 2, 3, 5}"
      ]
     },
     "execution_count": 71,
     "metadata": {},
     "output_type": "execute_result"
    }
   ],
   "source": [
    "s # it just keeps unique elements"
   ]
  },
  {
   "cell_type": "markdown",
   "id": "43069e4a",
   "metadata": {},
   "source": [
    "## Logical Operators"
   ]
  },
  {
   "cell_type": "code",
   "execution_count": 72,
   "id": "260c3d0e",
   "metadata": {},
   "outputs": [
    {
     "data": {
      "text/plain": [
       "True"
      ]
     },
     "execution_count": 72,
     "metadata": {},
     "output_type": "execute_result"
    }
   ],
   "source": [
    "1 < 2"
   ]
  },
  {
   "cell_type": "code",
   "execution_count": 73,
   "id": "5a804ffa",
   "metadata": {},
   "outputs": [
    {
     "data": {
      "text/plain": [
       "False"
      ]
     },
     "execution_count": 73,
     "metadata": {},
     "output_type": "execute_result"
    }
   ],
   "source": [
    "1 >= 2"
   ]
  },
  {
   "cell_type": "code",
   "execution_count": 74,
   "id": "3e662ac1",
   "metadata": {},
   "outputs": [
    {
     "data": {
      "text/plain": [
       "True"
      ]
     },
     "execution_count": 74,
     "metadata": {},
     "output_type": "execute_result"
    }
   ],
   "source": [
    "1 == 1"
   ]
  },
  {
   "cell_type": "code",
   "execution_count": 75,
   "id": "bab69764",
   "metadata": {},
   "outputs": [
    {
     "data": {
      "text/plain": [
       "False"
      ]
     },
     "execution_count": 75,
     "metadata": {},
     "output_type": "execute_result"
    }
   ],
   "source": [
    "1 == 2"
   ]
  },
  {
   "cell_type": "code",
   "execution_count": 76,
   "id": "2849eadb",
   "metadata": {},
   "outputs": [
    {
     "data": {
      "text/plain": [
       "True"
      ]
     },
     "execution_count": 76,
     "metadata": {},
     "output_type": "execute_result"
    }
   ],
   "source": [
    "1 != 3"
   ]
  },
  {
   "cell_type": "code",
   "execution_count": 77,
   "id": "b4147edd",
   "metadata": {},
   "outputs": [
    {
     "data": {
      "text/plain": [
       "False"
      ]
     },
     "execution_count": 77,
     "metadata": {},
     "output_type": "execute_result"
    }
   ],
   "source": [
    "'hi' == 'bye'"
   ]
  },
  {
   "cell_type": "code",
   "execution_count": 78,
   "id": "14159e36",
   "metadata": {},
   "outputs": [
    {
     "data": {
      "text/plain": [
       "True"
      ]
     },
     "execution_count": 78,
     "metadata": {},
     "output_type": "execute_result"
    }
   ],
   "source": [
    "'hi' != 'bye'"
   ]
  },
  {
   "cell_type": "code",
   "execution_count": 79,
   "id": "698f46fc",
   "metadata": {},
   "outputs": [
    {
     "data": {
      "text/plain": [
       "True"
      ]
     },
     "execution_count": 79,
     "metadata": {},
     "output_type": "execute_result"
    }
   ],
   "source": [
    "(1 < 2) and (2 < 3) # paranthesis makes it more readable"
   ]
  },
  {
   "cell_type": "code",
   "execution_count": 80,
   "id": "48cd2724",
   "metadata": {},
   "outputs": [
    {
     "data": {
      "text/plain": [
       "False"
      ]
     },
     "execution_count": 80,
     "metadata": {},
     "output_type": "execute_result"
    }
   ],
   "source": [
    "(1 > 2) and (2 < 3)"
   ]
  },
  {
   "cell_type": "markdown",
   "id": "233b574c",
   "metadata": {},
   "source": [
    "### CONDITIONAL STATEMENTS"
   ]
  },
  {
   "cell_type": "code",
   "execution_count": 81,
   "id": "e54d2ad1",
   "metadata": {},
   "outputs": [
    {
     "name": "stdout",
     "output_type": "stream",
     "text": [
      "yep!\n"
     ]
    }
   ],
   "source": [
    "if 1 < 5:\n",
    "    print('yep!')"
   ]
  },
  {
   "cell_type": "code",
   "execution_count": 82,
   "id": "3dae3513",
   "metadata": {},
   "outputs": [
    {
     "name": "stdout",
     "output_type": "stream",
     "text": [
      "Middle\n"
     ]
    }
   ],
   "source": [
    "if 1 == 2:\n",
    "    print('First')\n",
    "elif 3 == 3:\n",
    "    print('Middle')\n",
    "else:\n",
    "    print('Last')"
   ]
  },
  {
   "cell_type": "code",
   "execution_count": 85,
   "id": "e870d70d",
   "metadata": {},
   "outputs": [
    {
     "name": "stdout",
     "output_type": "stream",
     "text": [
      "second\n"
     ]
    }
   ],
   "source": [
    "if 1 == 2:\n",
    "    print('First')\n",
    "elif 4 == 4:\n",
    "    print('second') # it is going to execute only this block and exit \n",
    "                    #even though other statements might be true below\n",
    "elif 3 == 3:\n",
    "    print('Middle')\n",
    "else:\n",
    "    print('Last')"
   ]
  },
  {
   "cell_type": "markdown",
   "id": "54891110",
   "metadata": {},
   "source": [
    "### LOOPS\n",
    "- for\n",
    "- while"
   ]
  },
  {
   "cell_type": "code",
   "execution_count": 86,
   "id": "fb902831",
   "metadata": {},
   "outputs": [
    {
     "name": "stdout",
     "output_type": "stream",
     "text": [
      "1\n",
      "2\n",
      "3\n",
      "4\n",
      "5\n"
     ]
    }
   ],
   "source": [
    "seq = [1,2,3,4,5]\n",
    "for item in seq:\n",
    "    print(item)"
   ]
  },
  {
   "cell_type": "code",
   "execution_count": 87,
   "id": "2c61b47b",
   "metadata": {},
   "outputs": [
    {
     "name": "stdout",
     "output_type": "stream",
     "text": [
      "i is 1\n",
      "i is 2\n",
      "i is 3\n",
      "i is 4\n"
     ]
    }
   ],
   "source": [
    "i = 1\n",
    "\n",
    "while i < 5:\n",
    "    print('i is {}'.format(i))\n",
    "    i = i + 1"
   ]
  },
  {
   "cell_type": "markdown",
   "id": "ef11491a",
   "metadata": {},
   "source": [
    "### RANGE"
   ]
  },
  {
   "cell_type": "code",
   "execution_count": 20,
   "id": "ede42648",
   "metadata": {},
   "outputs": [
    {
     "data": {
      "text/plain": [
       "range(0, 5)"
      ]
     },
     "execution_count": 20,
     "metadata": {},
     "output_type": "execute_result"
    }
   ],
   "source": [
    "range(0,5) # returns range object"
   ]
  },
  {
   "cell_type": "code",
   "execution_count": 22,
   "id": "3a997163",
   "metadata": {},
   "outputs": [
    {
     "data": {
      "text/plain": [
       "[0, 1, 2, 3, 4]"
      ]
     },
     "execution_count": 22,
     "metadata": {},
     "output_type": "execute_result"
    }
   ],
   "source": [
    "list(range(5))"
   ]
  },
  {
   "cell_type": "code",
   "execution_count": 92,
   "id": "fe590cb7",
   "metadata": {},
   "outputs": [
    {
     "data": {
      "text/plain": [
       "[0, 1, 2, 3, 4]"
      ]
     },
     "execution_count": 92,
     "metadata": {},
     "output_type": "execute_result"
    }
   ],
   "source": [
    "list(range(0,5)) # 0 is redundant"
   ]
  },
  {
   "cell_type": "code",
   "execution_count": 1,
   "id": "a974e42a",
   "metadata": {},
   "outputs": [],
   "source": [
    "for num in range(7,5): # no error even though end < start. for loop will not run\n",
    "    print(num)"
   ]
  },
  {
   "cell_type": "code",
   "execution_count": 26,
   "id": "963859f0",
   "metadata": {},
   "outputs": [
    {
     "name": "stdout",
     "output_type": "stream",
     "text": [
      "7\n",
      "8\n",
      "9\n"
     ]
    }
   ],
   "source": [
    "for num in range(7,10):\n",
    "    print(num)"
   ]
  },
  {
   "cell_type": "markdown",
   "id": "3bffdcbc",
   "metadata": {},
   "source": [
    "### LIST COMPREHENSION - FOR LOOP BUT BACKWARDS"
   ]
  },
  {
   "cell_type": "code",
   "execution_count": 99,
   "id": "a72fd293",
   "metadata": {},
   "outputs": [],
   "source": [
    "x = [1,2,3,4,5]\n",
    "out = []"
   ]
  },
  {
   "cell_type": "code",
   "execution_count": 100,
   "id": "1b6a6f3f",
   "metadata": {},
   "outputs": [
    {
     "data": {
      "text/plain": [
       "[1, 4, 9, 16, 25]"
      ]
     },
     "execution_count": 100,
     "metadata": {},
     "output_type": "execute_result"
    }
   ],
   "source": [
    "for num in x:\n",
    "    out.append(num **2)\n",
    "out"
   ]
  },
  {
   "cell_type": "code",
   "execution_count": 101,
   "id": "4c868d7f",
   "metadata": {},
   "outputs": [
    {
     "data": {
      "text/plain": [
       "[1, 4, 9, 16, 25]"
      ]
     },
     "execution_count": 101,
     "metadata": {},
     "output_type": "execute_result"
    }
   ],
   "source": [
    "[num**2 for num in x] # for loop but backwards - reduced lines of code : can be done using map() also"
   ]
  },
  {
   "cell_type": "code",
   "execution_count": 102,
   "id": "45aa2302",
   "metadata": {},
   "outputs": [],
   "source": [
    "out = [num**2 for num in x]"
   ]
  },
  {
   "cell_type": "code",
   "execution_count": 103,
   "id": "cc7136e3",
   "metadata": {},
   "outputs": [
    {
     "data": {
      "text/plain": [
       "[1, 4, 9, 16, 25]"
      ]
     },
     "execution_count": 103,
     "metadata": {},
     "output_type": "execute_result"
    }
   ],
   "source": [
    "out"
   ]
  },
  {
   "cell_type": "markdown",
   "id": "785511dd",
   "metadata": {},
   "source": [
    "### FUNCTIONS"
   ]
  },
  {
   "cell_type": "code",
   "execution_count": 108,
   "id": "68c36c14",
   "metadata": {},
   "outputs": [],
   "source": [
    "def my_func(name): # function name starts with lower case letters\n",
    "    print('Hello, '+name)"
   ]
  },
  {
   "cell_type": "code",
   "execution_count": 109,
   "id": "edde479d",
   "metadata": {},
   "outputs": [
    {
     "name": "stdout",
     "output_type": "stream",
     "text": [
      "Hello, Chaithra\n"
     ]
    }
   ],
   "source": [
    "my_func('Chaithra')"
   ]
  },
  {
   "cell_type": "code",
   "execution_count": 110,
   "id": "b05f3805",
   "metadata": {},
   "outputs": [],
   "source": [
    "def my_func(name='Default Name'): # if you want default value to one of the parameters\n",
    "    print('Hello, '+name)"
   ]
  },
  {
   "cell_type": "code",
   "execution_count": 111,
   "id": "67d3b810",
   "metadata": {},
   "outputs": [
    {
     "name": "stdout",
     "output_type": "stream",
     "text": [
      "Hello, Default Name\n"
     ]
    }
   ],
   "source": [
    "my_func()"
   ]
  },
  {
   "cell_type": "code",
   "execution_count": 112,
   "id": "d9691bf4",
   "metadata": {},
   "outputs": [
    {
     "name": "stdout",
     "output_type": "stream",
     "text": [
      "Hello, Chai\n"
     ]
    }
   ],
   "source": [
    "my_func(name='Chai') # you can fully explain what you are passing to function"
   ]
  },
  {
   "cell_type": "code",
   "execution_count": 113,
   "id": "19d14e35",
   "metadata": {},
   "outputs": [
    {
     "data": {
      "text/plain": [
       "<function __main__.my_func(name='Default Name')>"
      ]
     },
     "execution_count": 113,
     "metadata": {},
     "output_type": "execute_result"
    }
   ],
   "source": [
    "my_func  # function object will be returned"
   ]
  },
  {
   "cell_type": "code",
   "execution_count": 116,
   "id": "a495267a",
   "metadata": {},
   "outputs": [],
   "source": [
    "# function returning a value\n",
    "def square(num):\n",
    "    return num ** 2"
   ]
  },
  {
   "cell_type": "code",
   "execution_count": 117,
   "id": "f8a6b9b7",
   "metadata": {},
   "outputs": [],
   "source": [
    "output = square(2)\n",
    "output"
   ]
  },
  {
   "cell_type": "code",
   "execution_count": 2,
   "id": "1b25ce97",
   "metadata": {},
   "outputs": [],
   "source": [
    "# functions have documentation string using triple enlosing quote\n",
    "# triple enclosing quotes basically allows you to put in giant string\n",
    "def square(num):\n",
    "    \"\"\"\n",
    "    This is a docstring.\n",
    "    can go multiple lines.\n",
    "    This function squares a number\n",
    "    \"\"\"\n",
    "    return num ** 2"
   ]
  },
  {
   "cell_type": "code",
   "execution_count": 121,
   "id": "8a12fb4a",
   "metadata": {},
   "outputs": [
    {
     "data": {
      "text/plain": [
       "<function __main__.square(num)>"
      ]
     },
     "execution_count": 121,
     "metadata": {},
     "output_type": "execute_result"
    }
   ],
   "source": [
    "square  # shift + Tab to see the signature and docstring"
   ]
  },
  {
   "cell_type": "markdown",
   "id": "612aab74",
   "metadata": {},
   "source": [
    "### MAP & FILTER"
   ]
  },
  {
   "cell_type": "code",
   "execution_count": 122,
   "id": "e4a0d942",
   "metadata": {},
   "outputs": [],
   "source": [
    "def times2(num): return num * 2"
   ]
  },
  {
   "cell_type": "code",
   "execution_count": 129,
   "id": "a9bb2597",
   "metadata": {},
   "outputs": [],
   "source": [
    "# converting to lambda ( anonymous functions)\n",
    "# remove redudant keywords - def, fucntion name, return\n",
    "t = lambda num: num*2"
   ]
  },
  {
   "cell_type": "code",
   "execution_count": 130,
   "id": "0d6612cd",
   "metadata": {},
   "outputs": [
    {
     "data": {
      "text/plain": [
       "24"
      ]
     },
     "execution_count": 130,
     "metadata": {},
     "output_type": "execute_result"
    }
   ],
   "source": [
    "t(12)"
   ]
  },
  {
   "cell_type": "code",
   "execution_count": 123,
   "id": "f9bc9ec0",
   "metadata": {},
   "outputs": [
    {
     "data": {
      "text/plain": [
       "12"
      ]
     },
     "execution_count": 123,
     "metadata": {},
     "output_type": "execute_result"
    }
   ],
   "source": [
    "times2(6)"
   ]
  },
  {
   "cell_type": "code",
   "execution_count": 124,
   "id": "7879dd72",
   "metadata": {},
   "outputs": [],
   "source": [
    "seq = [1,2,3,4,5]"
   ]
  },
  {
   "cell_type": "code",
   "execution_count": 127,
   "id": "303f0103",
   "metadata": {},
   "outputs": [
    {
     "data": {
      "text/plain": [
       "<map at 0x1e35e0bbd30>"
      ]
     },
     "execution_count": 127,
     "metadata": {},
     "output_type": "execute_result"
    }
   ],
   "source": [
    "map(times2, seq)"
   ]
  },
  {
   "cell_type": "code",
   "execution_count": 128,
   "id": "d25e2dc9",
   "metadata": {},
   "outputs": [
    {
     "data": {
      "text/plain": [
       "[2, 4, 6, 8, 10]"
      ]
     },
     "execution_count": 128,
     "metadata": {},
     "output_type": "execute_result"
    }
   ],
   "source": [
    "list(map(times2, seq)) # casting to list"
   ]
  },
  {
   "cell_type": "code",
   "execution_count": 131,
   "id": "e9aad266",
   "metadata": {},
   "outputs": [
    {
     "data": {
      "text/plain": [
       "[2, 4, 6, 8, 10]"
      ]
     },
     "execution_count": 131,
     "metadata": {},
     "output_type": "execute_result"
    }
   ],
   "source": [
    "list(map(lambda num: num*2, seq))"
   ]
  },
  {
   "cell_type": "code",
   "execution_count": 132,
   "id": "4c9ed50b",
   "metadata": {},
   "outputs": [
    {
     "data": {
      "text/plain": [
       "<filter at 0x1e35e0bbdf0>"
      ]
     },
     "execution_count": 132,
     "metadata": {},
     "output_type": "execute_result"
    }
   ],
   "source": [
    "# filter for even numbers in the seq\n",
    "filter(lambda num: num%2==0, seq)"
   ]
  },
  {
   "cell_type": "code",
   "execution_count": 133,
   "id": "f0f53830",
   "metadata": {},
   "outputs": [
    {
     "data": {
      "text/plain": [
       "[2, 4]"
      ]
     },
     "execution_count": 133,
     "metadata": {},
     "output_type": "execute_result"
    }
   ],
   "source": [
    "list(filter(lambda num: num%2==0, seq))"
   ]
  },
  {
   "cell_type": "markdown",
   "id": "827d3cde",
   "metadata": {},
   "source": [
    "### METHODS"
   ]
  },
  {
   "cell_type": "markdown",
   "id": "d3afd969",
   "metadata": {},
   "source": [
    "#### STRING METHODS\n",
    "- upper\n",
    "- lower\n",
    "- split"
   ]
  },
  {
   "cell_type": "code",
   "execution_count": 134,
   "id": "598c1af4",
   "metadata": {},
   "outputs": [],
   "source": [
    "s = 'hello my name is chaithra'"
   ]
  },
  {
   "cell_type": "code",
   "execution_count": 135,
   "id": "44217133",
   "metadata": {},
   "outputs": [
    {
     "data": {
      "text/plain": [
       "'hello my name is chaithra'"
      ]
     },
     "execution_count": 135,
     "metadata": {},
     "output_type": "execute_result"
    }
   ],
   "source": [
    "s.lower()"
   ]
  },
  {
   "cell_type": "code",
   "execution_count": 136,
   "id": "ce2dfd89",
   "metadata": {},
   "outputs": [
    {
     "data": {
      "text/plain": [
       "'HELLO MY NAME IS CHAITHRA'"
      ]
     },
     "execution_count": 136,
     "metadata": {},
     "output_type": "execute_result"
    }
   ],
   "source": [
    "s.upper()"
   ]
  },
  {
   "cell_type": "code",
   "execution_count": 1,
   "id": "57cabfc4",
   "metadata": {},
   "outputs": [
    {
     "ename": "NameError",
     "evalue": "name 's' is not defined",
     "output_type": "error",
     "traceback": [
      "\u001b[1;31m---------------------------------------------------------------------------\u001b[0m",
      "\u001b[1;31mNameError\u001b[0m                                 Traceback (most recent call last)",
      "\u001b[1;32m~\\AppData\\Local\\Temp/ipykernel_18652/2145193398.py\u001b[0m in \u001b[0;36m<module>\u001b[1;34m\u001b[0m\n\u001b[1;32m----> 1\u001b[1;33m \u001b[0ms\u001b[0m\u001b[1;33m.\u001b[0m\u001b[0msplit\u001b[0m\u001b[1;33m(\u001b[0m\u001b[1;33m)\u001b[0m \u001b[1;31m# useful for text analysis\u001b[0m\u001b[1;33m\u001b[0m\u001b[1;33m\u001b[0m\u001b[0m\n\u001b[0m",
      "\u001b[1;31mNameError\u001b[0m: name 's' is not defined"
     ]
    }
   ],
   "source": [
    "s.split() # useful for text analysis"
   ]
  },
  {
   "cell_type": "code",
   "execution_count": 1,
   "id": "a647e2cc",
   "metadata": {},
   "outputs": [
    {
     "name": "stdout",
     "output_type": "stream",
     "text": [
      "['welc', 'ome', 'to', 'the', 'jungle']\n"
     ]
    }
   ],
   "source": [
    "# default separator is any whitespace.\n",
    "\n",
    "txt = \"welc\\nome\\n to the jungle\" # delimiter is newline and space\n",
    "\n",
    "x = txt.split()\n",
    "\n",
    "print(x)"
   ]
  },
  {
   "cell_type": "code",
   "execution_count": 139,
   "id": "2c70f7bd",
   "metadata": {},
   "outputs": [],
   "source": [
    "tweet = 'Go Sports! #Sports'"
   ]
  },
  {
   "cell_type": "code",
   "execution_count": 140,
   "id": "783ed139",
   "metadata": {},
   "outputs": [
    {
     "data": {
      "text/plain": [
       "['Go Sports! ', 'Sports']"
      ]
     },
     "execution_count": 140,
     "metadata": {},
     "output_type": "execute_result"
    }
   ],
   "source": [
    "tweet.split('#')"
   ]
  },
  {
   "cell_type": "markdown",
   "id": "1c7d9824",
   "metadata": {},
   "source": [
    "#### DICTIONARY METHODS\n",
    "- keys\n",
    "- values\n",
    "- items"
   ]
  },
  {
   "cell_type": "code",
   "execution_count": 2,
   "id": "b2dfd5f3",
   "metadata": {},
   "outputs": [],
   "source": [
    "d = {'k1':1, 'k2':2}"
   ]
  },
  {
   "cell_type": "code",
   "execution_count": 143,
   "id": "6439050e",
   "metadata": {},
   "outputs": [
    {
     "data": {
      "text/plain": [
       "dict_keys(['k1', 'k2'])"
      ]
     },
     "execution_count": 143,
     "metadata": {},
     "output_type": "execute_result"
    }
   ],
   "source": [
    "d.keys()"
   ]
  },
  {
   "cell_type": "code",
   "execution_count": 144,
   "id": "92ea3035",
   "metadata": {},
   "outputs": [
    {
     "data": {
      "text/plain": [
       "dict_items([('k1', 1), ('k2', 2)])"
      ]
     },
     "execution_count": 144,
     "metadata": {},
     "output_type": "execute_result"
    }
   ],
   "source": [
    "d.items()"
   ]
  },
  {
   "cell_type": "code",
   "execution_count": 4,
   "id": "71184901",
   "metadata": {},
   "outputs": [
    {
     "data": {
      "text/plain": [
       "dict_values([1, 2])"
      ]
     },
     "execution_count": 4,
     "metadata": {},
     "output_type": "execute_result"
    }
   ],
   "source": [
    "d.values()"
   ]
  },
  {
   "cell_type": "code",
   "execution_count": 5,
   "id": "25f6b44f",
   "metadata": {},
   "outputs": [
    {
     "ename": "TypeError",
     "evalue": "'dict_values' object is not subscriptable",
     "output_type": "error",
     "traceback": [
      "\u001b[1;31m---------------------------------------------------------------------------\u001b[0m",
      "\u001b[1;31mTypeError\u001b[0m                                 Traceback (most recent call last)",
      "\u001b[1;32m~\\AppData\\Local\\Temp/ipykernel_25352/2069235211.py\u001b[0m in \u001b[0;36m<module>\u001b[1;34m\u001b[0m\n\u001b[0;32m      1\u001b[0m \u001b[0mvals\u001b[0m \u001b[1;33m=\u001b[0m \u001b[0md\u001b[0m\u001b[1;33m.\u001b[0m\u001b[0mvalues\u001b[0m\u001b[1;33m(\u001b[0m\u001b[1;33m)\u001b[0m\u001b[1;33m\u001b[0m\u001b[1;33m\u001b[0m\u001b[0m\n\u001b[1;32m----> 2\u001b[1;33m \u001b[0mvals\u001b[0m\u001b[1;33m[\u001b[0m\u001b[1;36m0\u001b[0m\u001b[1;33m]\u001b[0m \u001b[1;31m# cannot be indexed\u001b[0m\u001b[1;33m\u001b[0m\u001b[1;33m\u001b[0m\u001b[0m\n\u001b[0m",
      "\u001b[1;31mTypeError\u001b[0m: 'dict_values' object is not subscriptable"
     ]
    }
   ],
   "source": [
    "vals = d.values() # dict_values object cannot be indexed\n",
    "vals[0] # cannot be indexed"
   ]
  },
  {
   "cell_type": "code",
   "execution_count": 6,
   "id": "02d6d5cf",
   "metadata": {},
   "outputs": [
    {
     "data": {
      "text/plain": [
       "1"
      ]
     },
     "execution_count": 6,
     "metadata": {},
     "output_type": "execute_result"
    }
   ],
   "source": [
    "vals = list(d.values())\n",
    "vals[0]"
   ]
  },
  {
   "cell_type": "markdown",
   "id": "38e7fe48",
   "metadata": {},
   "source": [
    "#### LIST METHODS\n",
    "- pop\n",
    "- pop with index\n",
    "- append"
   ]
  },
  {
   "cell_type": "code",
   "execution_count": 146,
   "id": "6905adac",
   "metadata": {},
   "outputs": [],
   "source": [
    "lst = [1,2,3]"
   ]
  },
  {
   "cell_type": "code",
   "execution_count": 147,
   "id": "957fb818",
   "metadata": {},
   "outputs": [
    {
     "data": {
      "text/plain": [
       "3"
      ]
     },
     "execution_count": 147,
     "metadata": {},
     "output_type": "execute_result"
    }
   ],
   "source": [
    "lst.pop() # change is permanent"
   ]
  },
  {
   "cell_type": "code",
   "execution_count": 148,
   "id": "e238de3e",
   "metadata": {},
   "outputs": [
    {
     "data": {
      "text/plain": [
       "[1, 2]"
      ]
     },
     "execution_count": 148,
     "metadata": {},
     "output_type": "execute_result"
    }
   ],
   "source": [
    "lst "
   ]
  },
  {
   "cell_type": "code",
   "execution_count": 153,
   "id": "097e4715",
   "metadata": {},
   "outputs": [],
   "source": [
    "lst = [1,2,3,4,5]\n",
    "item = lst.pop()"
   ]
  },
  {
   "cell_type": "code",
   "execution_count": 154,
   "id": "674623dd",
   "metadata": {},
   "outputs": [
    {
     "data": {
      "text/plain": [
       "5"
      ]
     },
     "execution_count": 154,
     "metadata": {},
     "output_type": "execute_result"
    }
   ],
   "source": [
    "item"
   ]
  },
  {
   "cell_type": "code",
   "execution_count": 155,
   "id": "5468ac97",
   "metadata": {},
   "outputs": [],
   "source": [
    "first = lst.pop(0) # pop with index"
   ]
  },
  {
   "cell_type": "code",
   "execution_count": 161,
   "id": "a7470137",
   "metadata": {},
   "outputs": [
    {
     "name": "stdout",
     "output_type": "stream",
     "text": [
      "[2, 3, 4, 'NEW']\n",
      "1\n"
     ]
    }
   ],
   "source": [
    "print(lst)\n",
    "print(first)"
   ]
  },
  {
   "cell_type": "code",
   "execution_count": 158,
   "id": "79c501df",
   "metadata": {},
   "outputs": [],
   "source": [
    "lst.append('NEW') # append new element to end of the list"
   ]
  },
  {
   "cell_type": "code",
   "execution_count": 159,
   "id": "3af93d05",
   "metadata": {},
   "outputs": [
    {
     "data": {
      "text/plain": [
       "[2, 3, 4, 'NEW']"
      ]
     },
     "execution_count": 159,
     "metadata": {},
     "output_type": "execute_result"
    }
   ],
   "source": [
    "lst"
   ]
  },
  {
   "cell_type": "markdown",
   "id": "32682489",
   "metadata": {},
   "source": [
    "### IN"
   ]
  },
  {
   "cell_type": "code",
   "execution_count": 162,
   "id": "e8a6ef5d",
   "metadata": {},
   "outputs": [
    {
     "data": {
      "text/plain": [
       "False"
      ]
     },
     "execution_count": 162,
     "metadata": {},
     "output_type": "execute_result"
    }
   ],
   "source": [
    "'x' in [1,2,3,4,5]"
   ]
  },
  {
   "cell_type": "code",
   "execution_count": 5,
   "id": "daea4f2f",
   "metadata": {},
   "outputs": [
    {
     "data": {
      "text/plain": [
       "True"
      ]
     },
     "execution_count": 5,
     "metadata": {},
     "output_type": "execute_result"
    }
   ],
   "source": [
    "'x' in ['x','y','z']"
   ]
  },
  {
   "cell_type": "code",
   "execution_count": 6,
   "id": "3824c161",
   "metadata": {},
   "outputs": [
    {
     "data": {
      "text/plain": [
       "True"
      ]
     },
     "execution_count": 6,
     "metadata": {},
     "output_type": "execute_result"
    }
   ],
   "source": [
    "'dog' in 'martha is a dog!'"
   ]
  },
  {
   "cell_type": "markdown",
   "id": "c5b1855f",
   "metadata": {},
   "source": [
    "#### TUPLE UNPACKING"
   ]
  },
  {
   "cell_type": "code",
   "execution_count": 164,
   "id": "cb6dd857",
   "metadata": {},
   "outputs": [],
   "source": [
    "x = [(1,2),(3,4),(5,6)]"
   ]
  },
  {
   "cell_type": "code",
   "execution_count": 165,
   "id": "2c04e499",
   "metadata": {},
   "outputs": [
    {
     "data": {
      "text/plain": [
       "(1, 2)"
      ]
     },
     "execution_count": 165,
     "metadata": {},
     "output_type": "execute_result"
    }
   ],
   "source": [
    "x[0]"
   ]
  },
  {
   "cell_type": "code",
   "execution_count": 166,
   "id": "e0148b82",
   "metadata": {},
   "outputs": [
    {
     "data": {
      "text/plain": [
       "2"
      ]
     },
     "execution_count": 166,
     "metadata": {},
     "output_type": "execute_result"
    }
   ],
   "source": [
    "x[0][1]"
   ]
  },
  {
   "cell_type": "code",
   "execution_count": 167,
   "id": "2126b8d9",
   "metadata": {},
   "outputs": [
    {
     "name": "stdout",
     "output_type": "stream",
     "text": [
      "(1, 2)\n",
      "(3, 4)\n",
      "(5, 6)\n"
     ]
    }
   ],
   "source": [
    "for item in x:\n",
    "    print(item)"
   ]
  },
  {
   "cell_type": "code",
   "execution_count": 168,
   "id": "1e903e06",
   "metadata": {},
   "outputs": [
    {
     "name": "stdout",
     "output_type": "stream",
     "text": [
      "1\n",
      "3\n",
      "5\n"
     ]
    }
   ],
   "source": [
    "# tuple unpacking works when iterating over list of tuples\n",
    "for (a,b) in x:\n",
    "    print(a)"
   ]
  },
  {
   "cell_type": "code",
   "execution_count": 169,
   "id": "7f94de3c",
   "metadata": {},
   "outputs": [
    {
     "name": "stdout",
     "output_type": "stream",
     "text": [
      "2\n",
      "4\n",
      "6\n"
     ]
    }
   ],
   "source": [
    "for a,b in x: # paranthesis are optional\n",
    "    print(b)"
   ]
  },
  {
   "cell_type": "markdown",
   "id": "d39af94c",
   "metadata": {},
   "source": [
    "### STRING FORMATTING IN JPMC INTERVIEW"
   ]
  },
  {
   "cell_type": "code",
   "execution_count": 5,
   "id": "2c1721e2",
   "metadata": {},
   "outputs": [
    {
     "name": "stdout",
     "output_type": "stream",
     "text": [
      "39.50\n",
      "39.00\n"
     ]
    }
   ],
   "source": [
    "# when we want to have specific decimal places\n",
    "print('%.2f'%39.5)\n",
    "print('%.2f'%39)"
   ]
  },
  {
   "cell_type": "code",
   "execution_count": 5,
   "id": "cc88351f",
   "metadata": {},
   "outputs": [
    {
     "data": {
      "text/plain": [
       "'38.90'"
      ]
     },
     "execution_count": 5,
     "metadata": {},
     "output_type": "execute_result"
    }
   ],
   "source": [
    "# {[argument_index_or_keyword]:[width][.precision][type]}\n",
    "'{:.2f}'.format(38.9)"
   ]
  },
  {
   "cell_type": "code",
   "execution_count": 12,
   "id": "6fa1cdbc",
   "metadata": {},
   "outputs": [
    {
     "data": {
      "text/plain": [
       "'38.3'"
      ]
     },
     "execution_count": 12,
     "metadata": {},
     "output_type": "execute_result"
    }
   ],
   "source": [
    "'{:.1f}'.format(38.28) # rounds off"
   ]
  },
  {
   "cell_type": "code",
   "execution_count": 16,
   "id": "fda96a0e",
   "metadata": {},
   "outputs": [
    {
     "data": {
      "text/plain": [
       "'38.90'"
      ]
     },
     "execution_count": 16,
     "metadata": {},
     "output_type": "execute_result"
    }
   ],
   "source": [
    "'{num:.2f}'.format(num=38.9)"
   ]
  },
  {
   "cell_type": "code",
   "execution_count": 17,
   "id": "9d99226d",
   "metadata": {},
   "outputs": [
    {
     "data": {
      "text/plain": [
       "'     38.90'"
      ]
     },
     "execution_count": 17,
     "metadata": {},
     "output_type": "execute_result"
    }
   ],
   "source": [
    "'{num:10.2f}'.format(num=38.9)"
   ]
  }
 ],
 "metadata": {
  "kernelspec": {
   "display_name": "Python 3 (ipykernel)",
   "language": "python",
   "name": "python3"
  },
  "language_info": {
   "codemirror_mode": {
    "name": "ipython",
    "version": 3
   },
   "file_extension": ".py",
   "mimetype": "text/x-python",
   "name": "python",
   "nbconvert_exporter": "python",
   "pygments_lexer": "ipython3",
   "version": "3.9.7"
  }
 },
 "nbformat": 4,
 "nbformat_minor": 5
}
