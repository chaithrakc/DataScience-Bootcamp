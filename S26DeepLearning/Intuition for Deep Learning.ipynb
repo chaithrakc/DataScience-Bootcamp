{
 "cells": [
  {
   "cell_type": "markdown",
   "id": "48bda2f9",
   "metadata": {},
   "source": [
    "## why deep learning became so popular?\n",
    "\n",
    "1. Exponential growth in the data (~2011/2012 year)\n",
    "    - people started using smartphones, social media platform, youtube leding to data generation in huge \n",
    "    \n",
    "\n",
    "2. Deep learning models \n",
    "    - higher accuracy\n",
    "    - In the older machine learning algorithms, as the amount of data increased, after some specific point, performance became constant\n",
    "    - however, deep learning models showed increase in performance with increase in amount of data because of deep neural networks\n",
    "    \n",
    "\n",
    "3. Technology upgradation (cheap hardware)\n",
    "    - Now, we have cheap harwares like Nvidia GPUs which help in training the models\n",
    "    - prices of hardware is reduced, clouds etc.,\n",
    "\n",
    "\n",
    "4. ML project \n",
    "    [life cycle of data science project: DATA &rarr; FEATURE EXTRACTION &rarr; MODEL TRAINING &rarr;  HYPER PARAMETER TUNING &rarr; ACCURACY]\n",
    "    - **Feature extraction and Training the DL model** steps are included within the deep learning technique\n",
    "\n",
    "\n",
    "5. Deep Learning projects can solve complex problems\n",
    "    - Image classification\n",
    "    - Object detection\n",
    "    - NLP task\n",
    "    - Chatbots\n",
    "    "
   ]
  },
  {
   "cell_type": "markdown",
   "id": "29bcaa70",
   "metadata": {},
   "source": [
    "# Deep Learning Techniques\n",
    "\n",
    "1. ANN - Artificial Nueural Network\n",
    "    - works on all kind of tabular data\n",
    "    \n",
    "    \n",
    "    \n",
    "2. CNN - Convolution Neural Network\n",
    "    - data is images and videos because architecture of CNN is more suitable for processing images and videos\n",
    "    - Applications:\n",
    "        - Image classification &larr; CNN, Transfer learning\n",
    "        - Object detection (ex: face detection) &larr; RCNN, Fast RCNN, FASTER RCNN, SSD, YOLO, DECTERON\n",
    "        - Segmentation (used in self driving cars) \n",
    "        - Tracking\n",
    "        - GAN\n",
    "        \n",
    "        \n",
    "3. RNN - Recurrent Neural Network\n",
    "    - data is text, time series, sequential data\n",
    "    \n",
    "   Techniques under RNN are:\n",
    "    - RNN\n",
    "    - LSTM RNN\n",
    "    - Bidirectional LSTM RNN\n",
    "    - Encoder and Decoder\n",
    "    - Transformers\n",
    "    - BERT\n",
    "    - GPT1, GPT2, GPT3\n"
   ]
  }
 ],
 "metadata": {
  "kernelspec": {
   "display_name": "Python 3 (ipykernel)",
   "language": "python",
   "name": "python3"
  },
  "language_info": {
   "codemirror_mode": {
    "name": "ipython",
    "version": 3
   },
   "file_extension": ".py",
   "mimetype": "text/x-python",
   "name": "python",
   "nbconvert_exporter": "python",
   "pygments_lexer": "ipython3",
   "version": "3.9.7"
  }
 },
 "nbformat": 4,
 "nbformat_minor": 5
}
